{
 "cells": [
  {
   "cell_type": "markdown",
   "id": "00b3b219",
   "metadata": {},
   "source": [
    "## BEGINNING OF DATA SCIENCE"
   ]
  },
  {
   "cell_type": "markdown",
   "id": "4f0d13d1",
   "metadata": {},
   "source": [
    "Hi guys , welcome to my Jupyter Notebook.I hope this\n",
    "training will be instructive for all of us."
   ]
  },
  {
   "cell_type": "markdown",
   "id": "d7531c4b",
   "metadata": {},
   "source": [
    "## Data Science Languages\n",
    "- Python\n",
    "- R\n",
    "- SQL\n",
    "- MATLAB\n",
    "- Julia\n",
    "- Scala\n",
    "- Java"
   ]
  },
  {
   "cell_type": "markdown",
   "id": "4202b98a",
   "metadata": {},
   "source": [
    "## Data Science Libraries\n",
    "\n",
    "- Pandas\n",
    "- NumPy\n",
    "- Scikit-learn\n",
    "- Matplotlib\n",
    "- Seaborn\n",
    "- PyTorch\n",
    "- TensorFlow\n"
   ]
  },
  {
   "cell_type": "markdown",
   "id": "fd7bec56",
   "metadata": {},
   "source": [
    "| Tool           | Description                                             | \n",
    "|----------------|---------------------------------------------------------|\n",
    "| Python         | A popular general-purpose programming language used for |  |                | data analysis, machine learning, and artificial         |  |                | intelligence.                                           |\n",
    "| R              | A programming language and software environment for     |  |                |  statistical computing and graphics.                    |  |----------------|---------------------------------------------------------|\n",
    "| SQL            | A standard language for managing relational databases.  | |----------------|---------------------------------------------------------| \n",
    "|Jupyter Notebook|A web-based interactive computing environment that allows| |                |  you to create and share documents that contain ivecode.| |----------------|---------------------------------------------------------|\n",
    "| NumPy          | A Python library used for working with arrays and       |  |                | numerical computing.                                    |  |----------------|---------------------------------------------------------|\n",
    "| Pandas         | A Python library used for data manipulation and analysis| |----------------|---------------------------------------------------------| \n",
    "| Matplotlib     | A Python library used for creating static, animated, and| |                | interactive visualizations.                             | |----------------|---------------------------------------------------------|\n",
    "| Scikit-learn   | A Python library used for machine learning and          | |                |  statistical modeling.                                  |  |----------------|---------------------------------------------------------|"
   ]
  },
  {
   "cell_type": "markdown",
   "id": "6eb43640",
   "metadata": {},
   "source": [
    "Arithmetic expressions are mathematical expressions that involve numbers and mathematical operations, such as addition, subtraction, multiplication, and division. These expressions are commonly used in programming and data analysis to perform calculations on data. \n",
    "\n",
    "\n",
    "- 10 + 4 \n",
    "- 8  - 9\n",
    "- 5  * 12\n",
    "- (15+7) / 2 \n",
    "- 8  / 1"
   ]
  },
  {
   "cell_type": "code",
   "execution_count": 1,
   "id": "5db3258e",
   "metadata": {},
   "outputs": [
    {
     "name": "stdout",
     "output_type": "stream",
     "text": [
      "The product of 5 and 12 is 60\n",
      "The sum of 5 and 12 is 17\n"
     ]
    }
   ],
   "source": [
    "x = 5 \n",
    "y = 12 \n",
    "z = x * y \n",
    "w = x + y \n",
    "print(\"The product of\", x, \"and\", y, \"is\", z)\n",
    "print(\"The sum of\", x, \"and\", y, \"is\", w)"
   ]
  },
  {
   "cell_type": "code",
   "execution_count": 2,
   "id": "c7d6170f",
   "metadata": {},
   "outputs": [
    {
     "name": "stdout",
     "output_type": "stream",
     "text": [
      "360 minutes is equal to 6.0 hours\n"
     ]
    }
   ],
   "source": [
    "minutes = 360\n",
    "hours = minutes / 60\n",
    "print(minutes, \"minutes is equal to\", hours, \"hours\")"
   ]
  },
  {
   "cell_type": "markdown",
   "id": "6c0538d3",
   "metadata": {},
   "source": [
    "- Successfully graduate from the department you are currently studying\n",
    "- Qualify for postgraduate education in Europe.\n",
    "- find a scholarship\n",
    "- achieve good deeds for the world and humanity\n",
    "- always be a respectful individual to people and nature"
   ]
  },
  {
   "cell_type": "markdown",
   "id": "feed9d58",
   "metadata": {},
   "source": [
    "## Author \n",
    "Mikail Özdemir , I greet you all with all my love"
   ]
  }
 ],
 "metadata": {
  "kernelspec": {
   "display_name": "Python 3 (ipykernel)",
   "language": "python",
   "name": "python3"
  },
  "language_info": {
   "codemirror_mode": {
    "name": "ipython",
    "version": 3
   },
   "file_extension": ".py",
   "mimetype": "text/x-python",
   "name": "python",
   "nbconvert_exporter": "python",
   "pygments_lexer": "ipython3",
   "version": "3.11.3"
  }
 },
 "nbformat": 4,
 "nbformat_minor": 5
}
